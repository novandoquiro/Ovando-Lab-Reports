{
  "nbformat": 4,
  "nbformat_minor": 0,
  "metadata": {
    "colab": {
      "provenance": [],
      "collapsed_sections": [],
      "include_colab_link": true
    },
    "kernelspec": {
      "name": "python3",
      "display_name": "Python 3"
    },
    "language_info": {
      "name": "python"
    }
  },
  "cells": [
    {
      "cell_type": "markdown",
      "metadata": {
        "id": "view-in-github",
        "colab_type": "text"
      },
      "source": [
        "<a href=\"https://colab.research.google.com/github/novandoquiro/Ovando-Lab-Reports/blob/main/Nicolas_Ovando_Final_Copy_of_Lab_3.ipynb\" target=\"_parent\"><img src=\"https://colab.research.google.com/assets/colab-badge.svg\" alt=\"Open In Colab\"/></a>"
      ]
    },
    {
      "cell_type": "markdown",
      "source": [
        "# Stats Notebook Lab #3"
      ],
      "metadata": {
        "id": "GEwHyK5ve9lG"
      }
    },
    {
      "cell_type": "markdown",
      "source": [
        "### Loops"
      ],
      "metadata": {
        "id": "w8jTQA6itPS_"
      }
    },
    {
      "cell_type": "code",
      "source": [
        "for i in range(100):\n",
        "    print(i)"
      ],
      "metadata": {
        "id": "L7a5MPStqZW9"
      },
      "execution_count": null,
      "outputs": []
    },
    {
      "cell_type": "code",
      "source": [
        "# here we are setting the range to 100 so we will get a numbered list from 0-99 which results in one hundred numbers"
      ],
      "metadata": {
        "id": "gziFIVS87Rgw"
      },
      "execution_count": 131,
      "outputs": []
    },
    {
      "cell_type": "code",
      "source": [
        "for i in range(5,8):\n",
        "    print(i)"
      ],
      "metadata": {
        "colab": {
          "base_uri": "https://localhost:8080/"
        },
        "id": "GiqhhjfLqZZm",
        "outputId": "86662eca-3c6a-471b-937c-a5fd1c56ca02"
      },
      "execution_count": 52,
      "outputs": [
        {
          "output_type": "stream",
          "name": "stdout",
          "text": [
            "5\n",
            "6\n",
            "7\n"
          ]
        }
      ]
    },
    {
      "cell_type": "code",
      "source": [
        "# here we are just printing the numbers in between 5 and 8 but not the number eight because for that we would need to change the range to (5,9) to include the 8"
      ],
      "metadata": {
        "id": "DMrcor857n8w"
      },
      "execution_count": 133,
      "outputs": []
    },
    {
      "cell_type": "code",
      "source": [
        "for i in range(3):\n",
        "    print( \"Test Number: \" , i )"
      ],
      "metadata": {
        "colab": {
          "base_uri": "https://localhost:8080/"
        },
        "id": "ezhAeX6pqZb0",
        "outputId": "932cf3b1-6905-47cb-900c-4ea0ffa2f31d"
      },
      "execution_count": 53,
      "outputs": [
        {
          "output_type": "stream",
          "name": "stdout",
          "text": [
            "Test Number:  0\n",
            "Test Number:  1\n",
            "Test Number:  2\n"
          ]
        }
      ]
    },
    {
      "cell_type": "code",
      "source": [
        "# here we are again printing a range of numbers but this time we are including the text \"test number:\" before each one"
      ],
      "metadata": {
        "id": "pl-Px13t8IeD"
      },
      "execution_count": 134,
      "outputs": []
    },
    {
      "cell_type": "markdown",
      "source": [
        "### Functions"
      ],
      "metadata": {
        "id": "A6PCCPY2vkHs"
      }
    },
    {
      "cell_type": "code",
      "source": [
        "def square(x):\n",
        "    return x**2"
      ],
      "metadata": {
        "id": "P4rxbIKhthov"
      },
      "execution_count": 135,
      "outputs": []
    },
    {
      "cell_type": "code",
      "source": [
        "# this is the code to square any number as x"
      ],
      "metadata": {
        "id": "_JDAPLpk8ktv"
      },
      "execution_count": 136,
      "outputs": []
    },
    {
      "cell_type": "code",
      "source": [
        "square(5)"
      ],
      "metadata": {
        "id": "tapdcxMhthq5",
        "colab": {
          "base_uri": "https://localhost:8080/"
        },
        "outputId": "f11ab3c6-63f1-4eef-81e9-4852f7e03092"
      },
      "execution_count": 55,
      "outputs": [
        {
          "output_type": "execute_result",
          "data": {
            "text/plain": [
              "25"
            ]
          },
          "metadata": {},
          "execution_count": 55
        }
      ]
    },
    {
      "cell_type": "code",
      "source": [
        "# in this case x is 5 so the code is squaring 5 which results in 25"
      ],
      "metadata": {
        "id": "xwUmnAII8wW_"
      },
      "execution_count": 137,
      "outputs": []
    },
    {
      "cell_type": "code",
      "source": [
        "square(square(2))"
      ],
      "metadata": {
        "colab": {
          "base_uri": "https://localhost:8080/"
        },
        "id": "ggut_uVy_rSf",
        "outputId": "0a065734-00b3-4ff7-a209-59196c07b217"
      },
      "execution_count": 56,
      "outputs": [
        {
          "output_type": "execute_result",
          "data": {
            "text/plain": [
              "16"
            ]
          },
          "metadata": {},
          "execution_count": 56
        }
      ]
    },
    {
      "cell_type": "code",
      "source": [
        "# here we are squaring the square of 2 which means we fist square 2 and then square the result of that"
      ],
      "metadata": {
        "id": "7fLB-XmO86E0"
      },
      "execution_count": 138,
      "outputs": []
    },
    {
      "cell_type": "code",
      "source": [
        "square(square(square(2)))\n"
      ],
      "metadata": {
        "colab": {
          "base_uri": "https://localhost:8080/"
        },
        "id": "95jAfJVR_94h",
        "outputId": "c04f93e3-3d2b-4e58-e033-dc1db4bb70b5"
      },
      "execution_count": 57,
      "outputs": [
        {
          "output_type": "execute_result",
          "data": {
            "text/plain": [
              "256"
            ]
          },
          "metadata": {},
          "execution_count": 57
        }
      ]
    },
    {
      "cell_type": "code",
      "source": [
        "# similar to the previous code here the code is squaring three times instead of two "
      ],
      "metadata": {
        "id": "xHVFYvVd9ZZ3"
      },
      "execution_count": 139,
      "outputs": []
    },
    {
      "cell_type": "code",
      "source": [
        "square(123456)"
      ],
      "metadata": {
        "colab": {
          "base_uri": "https://localhost:8080/"
        },
        "id": "8Ni3UM4r_sav",
        "outputId": "94d41578-8d9e-4206-91dc-59aade73b093"
      },
      "execution_count": 58,
      "outputs": [
        {
          "output_type": "execute_result",
          "data": {
            "text/plain": [
              "15241383936"
            ]
          },
          "metadata": {},
          "execution_count": 58
        }
      ]
    },
    {
      "cell_type": "code",
      "source": [
        "# this is just an example of a big random number being squared"
      ],
      "metadata": {
        "id": "hGk1Dt639vS8"
      },
      "execution_count": 140,
      "outputs": []
    },
    {
      "cell_type": "code",
      "source": [
        "square(square(5))"
      ],
      "metadata": {
        "colab": {
          "base_uri": "https://localhost:8080/"
        },
        "id": "zCJeQUED_vO4",
        "outputId": "a41cbf63-30c7-45fa-c7d5-35c416f28478"
      },
      "execution_count": 59,
      "outputs": [
        {
          "output_type": "execute_result",
          "data": {
            "text/plain": [
              "625"
            ]
          },
          "metadata": {},
          "execution_count": 59
        }
      ]
    },
    {
      "cell_type": "code",
      "source": [
        "def add_two(x):\n",
        "    return x+2"
      ],
      "metadata": {
        "id": "Ifx93-xithtM"
      },
      "execution_count": 60,
      "outputs": []
    },
    {
      "cell_type": "code",
      "source": [
        "# this is the code to add 2 to any number set as x "
      ],
      "metadata": {
        "id": "_HXOd2dR96Zv"
      },
      "execution_count": 141,
      "outputs": []
    },
    {
      "cell_type": "code",
      "source": [
        "add_two(5)"
      ],
      "metadata": {
        "colab": {
          "base_uri": "https://localhost:8080/"
        },
        "id": "YOzLVIluthvX",
        "outputId": "d7a13f44-789b-41f4-843f-9a654e3dcb8e"
      },
      "execution_count": 61,
      "outputs": [
        {
          "output_type": "execute_result",
          "data": {
            "text/plain": [
              "7"
            ]
          },
          "metadata": {},
          "execution_count": 61
        }
      ]
    },
    {
      "cell_type": "code",
      "source": [
        "# here x is 5 so the code is adding 2 to 5 which is 7"
      ],
      "metadata": {
        "id": "_I5nH2d6-Eg9"
      },
      "execution_count": 142,
      "outputs": []
    },
    {
      "cell_type": "code",
      "source": [
        "square(add_two(5))"
      ],
      "metadata": {
        "colab": {
          "base_uri": "https://localhost:8080/"
        },
        "id": "Rbj7x0pYteTE",
        "outputId": "d7225cf0-bd4e-4362-996d-3d4c95b18659"
      },
      "execution_count": 62,
      "outputs": [
        {
          "output_type": "execute_result",
          "data": {
            "text/plain": [
              "49"
            ]
          },
          "metadata": {},
          "execution_count": 62
        }
      ]
    },
    {
      "cell_type": "code",
      "source": [
        "# here we combined both codes to add and square at the same time"
      ],
      "metadata": {
        "id": "CUZWTJMD-L5v"
      },
      "execution_count": 143,
      "outputs": []
    },
    {
      "cell_type": "markdown",
      "source": [
        "### Logical Branching"
      ],
      "metadata": {
        "id": "xApDPXnTv2xj"
      }
    },
    {
      "cell_type": "code",
      "source": [
        "choice = \"apple\""
      ],
      "metadata": {
        "id": "e0M7Azbth_u3"
      },
      "execution_count": 63,
      "outputs": []
    },
    {
      "cell_type": "code",
      "source": [
        "if choice == \"apple\":\n",
        "\n",
        "    print(\"You choose apples.\")\n",
        "\n",
        "else:\n",
        "    \n",
        "    print(\"You did not choose apples.\")"
      ],
      "metadata": {
        "colab": {
          "base_uri": "https://localhost:8080/"
        },
        "id": "9VoLDXjgwSSx",
        "outputId": "abb2afed-28f2-436c-925b-dfc213570c75"
      },
      "execution_count": 64,
      "outputs": [
        {
          "output_type": "stream",
          "name": "stdout",
          "text": [
            "You choose apples.\n"
          ]
        }
      ]
    },
    {
      "cell_type": "code",
      "source": [
        "# here we just set our choice as apple and then gave the instruction to print the result \"you choose apples\" if my choice is apple or \"you did not choose apples\" if its not my choice"
      ],
      "metadata": {
        "id": "kNJHkmqx-pvr"
      },
      "execution_count": 145,
      "outputs": []
    },
    {
      "cell_type": "code",
      "source": [
        "choice = \"orange\""
      ],
      "metadata": {
        "id": "YueQEzQfwUwM"
      },
      "execution_count": 65,
      "outputs": []
    },
    {
      "cell_type": "code",
      "source": [
        "if choice == \"apple\":\n",
        "\n",
        "    print(\"You choose apples.\")\n",
        "\n",
        "else:\n",
        "    \n",
        "    print(\"You did not choose apples.\")"
      ],
      "metadata": {
        "colab": {
          "base_uri": "https://localhost:8080/"
        },
        "outputId": "45448bff-0a08-459a-aba8-a9c7033c1bcb",
        "id": "P88tbCMiwUwN"
      },
      "execution_count": 66,
      "outputs": [
        {
          "output_type": "stream",
          "name": "stdout",
          "text": [
            "You did not choose apples.\n"
          ]
        }
      ]
    },
    {
      "cell_type": "code",
      "source": [
        "# since I chose orange instead of apple the printed result is \"you did not choose apples\""
      ],
      "metadata": {
        "id": "jWRBsfDf_DRi"
      },
      "execution_count": 146,
      "outputs": []
    },
    {
      "cell_type": "code",
      "source": [
        "choice = \"apple\""
      ],
      "metadata": {
        "id": "pMJWHWfLCBAz"
      },
      "execution_count": 67,
      "outputs": []
    },
    {
      "cell_type": "code",
      "source": [
        "if choice == \"apple\":\n",
        "\n",
        "    print(\"You choose apples.\")\n",
        "    print(\"Thank you, shop again!\")\n",
        "    print(2**123)\n",
        "\n",
        "elif choice == \"orange\":\n",
        "\n",
        "    print(\"You choose oranges.\")\n",
        "    print(\"Thank you, shop again!\")\n",
        "\n",
        "else:\n",
        "    \n",
        "    print(\"You did not choose apples or oranges.\")\n",
        "    print(\"Thank you, shop again!\")"
      ],
      "metadata": {
        "colab": {
          "base_uri": "https://localhost:8080/"
        },
        "id": "aLYE3A7Qv5Oq",
        "outputId": "d131de73-df7f-44e5-99de-0baaf7bbf067"
      },
      "execution_count": 68,
      "outputs": [
        {
          "output_type": "stream",
          "name": "stdout",
          "text": [
            "You choose apples.\n",
            "Thank you, shop again!\n",
            "10633823966279326983230456482242756608\n"
          ]
        }
      ]
    },
    {
      "cell_type": "code",
      "source": [
        "# for this code we just added a couple of other texts to appear on the result based on our choice"
      ],
      "metadata": {
        "id": "0cFYen8y_VxA"
      },
      "execution_count": 147,
      "outputs": []
    },
    {
      "cell_type": "markdown",
      "source": [
        "### User Input"
      ],
      "metadata": {
        "id": "DS5-YMih0kcD"
      }
    },
    {
      "cell_type": "code",
      "source": [
        "choice = input(\"Please enter your choice (i.e. apple): \")"
      ],
      "metadata": {
        "id": "VtkIsuCmv5T4",
        "colab": {
          "base_uri": "https://localhost:8080/"
        },
        "outputId": "cdb6ad82-6c4f-4c50-a3aa-1dd979732aa3"
      },
      "execution_count": 69,
      "outputs": [
        {
          "name": "stdout",
          "output_type": "stream",
          "text": [
            "Please enter your choice (i.e. apple): apple\n"
          ]
        }
      ]
    },
    {
      "cell_type": "code",
      "source": [
        "choice"
      ],
      "metadata": {
        "colab": {
          "base_uri": "https://localhost:8080/",
          "height": 35
        },
        "id": "qRPsF5Njv5WL",
        "outputId": "abe8ac63-edb5-4e46-82b7-c7382eee3eb2"
      },
      "execution_count": 70,
      "outputs": [
        {
          "output_type": "execute_result",
          "data": {
            "text/plain": [
              "'apple'"
            ],
            "application/vnd.google.colaboratory.intrinsic+json": {
              "type": "string"
            }
          },
          "metadata": {},
          "execution_count": 70
        }
      ]
    },
    {
      "cell_type": "code",
      "source": [
        "# here I just inputed my choice as apple"
      ],
      "metadata": {
        "id": "PuEVboKx_xeR"
      },
      "execution_count": 148,
      "outputs": []
    },
    {
      "cell_type": "code",
      "source": [
        "if choice == \"apple\":\n",
        "\n",
        "    print(\"You choose apples.\")\n",
        "\n",
        "elif choice == \"oranges\":\n",
        "\n",
        "    print(\"You choose oranges.\")\n",
        "\n",
        "else:\n",
        "    \n",
        "    print(\"You did not choose apples or oranges.\")"
      ],
      "metadata": {
        "id": "VAMAM01i0ytR",
        "colab": {
          "base_uri": "https://localhost:8080/"
        },
        "outputId": "90c1219c-f398-40a6-8b17-e8a86a97b23d"
      },
      "execution_count": 71,
      "outputs": [
        {
          "output_type": "stream",
          "name": "stdout",
          "text": [
            "You choose apples.\n"
          ]
        }
      ]
    },
    {
      "cell_type": "code",
      "source": [
        "# again, this code is stating to print specific texts as my result based on the choice I pick"
      ],
      "metadata": {
        "id": "9hOecEh1_45t"
      },
      "execution_count": 149,
      "outputs": []
    },
    {
      "cell_type": "markdown",
      "source": [
        "#### Coins"
      ],
      "metadata": {
        "id": "W-bPqHQs5WEW"
      }
    },
    {
      "cell_type": "code",
      "source": [
        "import numpy as np\n",
        "import matplotlib.pyplot as plt"
      ],
      "metadata": {
        "id": "ReVqQYR46p63"
      },
      "execution_count": 72,
      "outputs": []
    },
    {
      "cell_type": "code",
      "source": [
        "np.random.random()"
      ],
      "metadata": {
        "id": "Qo72tOfu5YTm",
        "colab": {
          "base_uri": "https://localhost:8080/"
        },
        "outputId": "bf1206f9-dd12-4534-f712-b72226312bfa"
      },
      "execution_count": 73,
      "outputs": [
        {
          "output_type": "execute_result",
          "data": {
            "text/plain": [
              "0.8550213706090604"
            ]
          },
          "metadata": {},
          "execution_count": 73
        }
      ]
    },
    {
      "cell_type": "code",
      "source": [
        "# this is just a random number we printed"
      ],
      "metadata": {
        "id": "eB5G3uzUAERZ"
      },
      "execution_count": 150,
      "outputs": []
    },
    {
      "cell_type": "code",
      "source": [
        "np.random.random() > 0.5"
      ],
      "metadata": {
        "id": "Ew6vCebg5aXK",
        "colab": {
          "base_uri": "https://localhost:8080/"
        },
        "outputId": "1877fa0e-555b-4279-cd24-725a5c2f0c89"
      },
      "execution_count": 74,
      "outputs": [
        {
          "output_type": "execute_result",
          "data": {
            "text/plain": [
              "False"
            ]
          },
          "metadata": {},
          "execution_count": 74
        }
      ]
    },
    {
      "cell_type": "code",
      "source": [
        "# here we created a code to identify if the random number is greater than 0.5 "
      ],
      "metadata": {
        "id": "Dt0p6mRKAI-1"
      },
      "execution_count": 151,
      "outputs": []
    },
    {
      "cell_type": "code",
      "source": [
        "def flip_coin():\n",
        "    if np.random.random() > 0.5:\n",
        "        print(\"Heads\")\n",
        "    else:\n",
        "        print(\"Tails\")"
      ],
      "metadata": {
        "id": "HwbqZHbm5e2u"
      },
      "execution_count": 75,
      "outputs": []
    },
    {
      "cell_type": "code",
      "source": [
        "# in this case we are now telling colab to print \"heads\" if the number is greater than 0.5 or \"tails\" if its less than that"
      ],
      "metadata": {
        "id": "xJIv2zWeAdmg"
      },
      "execution_count": 152,
      "outputs": []
    },
    {
      "cell_type": "code",
      "source": [
        "flip_coin()"
      ],
      "metadata": {
        "id": "ZcbnR1ln5sNh",
        "colab": {
          "base_uri": "https://localhost:8080/"
        },
        "outputId": "bc2e4cbb-cc49-4514-9445-cad15ba2aa7f"
      },
      "execution_count": 76,
      "outputs": [
        {
          "output_type": "stream",
          "name": "stdout",
          "text": [
            "Tails\n"
          ]
        }
      ]
    },
    {
      "cell_type": "code",
      "source": [
        "# here we just flipped the coin to see our result "
      ],
      "metadata": {
        "id": "3PnDmh9vAuFN"
      },
      "execution_count": 153,
      "outputs": []
    },
    {
      "cell_type": "markdown",
      "source": [
        "### Graphics Output"
      ],
      "metadata": {
        "id": "lrL2Razq9AT7"
      }
    },
    {
      "cell_type": "code",
      "metadata": {
        "id": "WPnpRgBWpoSP"
      },
      "source": [
        "from IPython.core.display import display, HTML"
      ],
      "execution_count": 77,
      "outputs": []
    },
    {
      "cell_type": "code",
      "metadata": {
        "id": "scoPAjX5I36X",
        "colab": {
          "base_uri": "https://localhost:8080/",
          "height": 74
        },
        "outputId": "69e49a2d-f3e3-4c6d-eca0-fc448a0e50db"
      },
      "source": [
        "display(HTML('<h1>Hello, world!</h1>'))"
      ],
      "execution_count": 78,
      "outputs": [
        {
          "output_type": "display_data",
          "data": {
            "text/plain": [
              "<IPython.core.display.HTML object>"
            ],
            "text/html": [
              "<h1>Hello, world!</h1>"
            ]
          },
          "metadata": {}
        }
      ]
    },
    {
      "cell_type": "code",
      "source": [
        "# here we are telling colab to display what is inside of the html"
      ],
      "metadata": {
        "id": "asdwz5bBA7Qb"
      },
      "execution_count": 154,
      "outputs": []
    },
    {
      "cell_type": "code",
      "metadata": {
        "id": "vFHNmtSRpyXg"
      },
      "source": [
        "def coin():\n",
        "  return np.random.randint(2)"
      ],
      "execution_count": 79,
      "outputs": []
    },
    {
      "cell_type": "code",
      "metadata": {
        "id": "AfAPWIjzp2gY",
        "colab": {
          "base_uri": "https://localhost:8080/"
        },
        "outputId": "38801028-0ee7-40b7-8791-fb9bf0ded08a"
      },
      "source": [
        "coin()"
      ],
      "execution_count": 80,
      "outputs": [
        {
          "output_type": "execute_result",
          "data": {
            "text/plain": [
              "1"
            ]
          },
          "metadata": {},
          "execution_count": 80
        }
      ]
    },
    {
      "cell_type": "code",
      "metadata": {
        "id": "m-fkSNLTp4TH",
        "colab": {
          "base_uri": "https://localhost:8080/",
          "height": 221
        },
        "outputId": "9357289e-381b-4bf2-8240-8821d14da363"
      },
      "source": [
        "display(HTML('<img src=\"https://random-ize.com/coin-flip/us-quarter/us-quarter-front.jpg\">'))"
      ],
      "execution_count": 81,
      "outputs": [
        {
          "output_type": "display_data",
          "data": {
            "text/plain": [
              "<IPython.core.display.HTML object>"
            ],
            "text/html": [
              "<img src=\"https://random-ize.com/coin-flip/us-quarter/us-quarter-front.jpg\">"
            ]
          },
          "metadata": {}
        }
      ]
    },
    {
      "cell_type": "code",
      "source": [
        "# this is an example of displaying an imgage from the url inside the html"
      ],
      "metadata": {
        "id": "rpTq5n4JBFWE"
      },
      "execution_count": 155,
      "outputs": []
    },
    {
      "cell_type": "code",
      "metadata": {
        "id": "PAyD2RQrq8ji"
      },
      "source": [
        "heads = 'https://random-ize.com/coin-flip/us-quarter/us-quarter-front.jpg'\n",
        "tails = 'https://random-ize.com/coin-flip/us-quarter/us-quarter-back.jpg'"
      ],
      "execution_count": 82,
      "outputs": []
    },
    {
      "cell_type": "code",
      "metadata": {
        "id": "BmZMzsCjrhaV"
      },
      "source": [
        "def show_img(img):\n",
        "  display(HTML('<img src=' + img + '>'))"
      ],
      "execution_count": 83,
      "outputs": []
    },
    {
      "cell_type": "code",
      "metadata": {
        "id": "UmSs0Jtrr_d2",
        "colab": {
          "base_uri": "https://localhost:8080/",
          "height": 221
        },
        "outputId": "bad77d23-1e82-4a78-ac0e-0cca0cfd23f5"
      },
      "source": [
        "show_img(heads)"
      ],
      "execution_count": 84,
      "outputs": [
        {
          "output_type": "display_data",
          "data": {
            "text/plain": [
              "<IPython.core.display.HTML object>"
            ],
            "text/html": [
              "<img src=https://random-ize.com/coin-flip/us-quarter/us-quarter-front.jpg>"
            ]
          },
          "metadata": {}
        }
      ]
    },
    {
      "cell_type": "code",
      "source": [
        "# this is displaying the image of the heads coin url"
      ],
      "metadata": {
        "id": "JR8VwZ0OBt5f"
      },
      "execution_count": 158,
      "outputs": []
    },
    {
      "cell_type": "code",
      "metadata": {
        "id": "LDcFpan0sBgm",
        "colab": {
          "base_uri": "https://localhost:8080/",
          "height": 221
        },
        "outputId": "e5cdbf4f-7aaf-4200-ef4c-b68936603d3c"
      },
      "source": [
        "show_img(tails)"
      ],
      "execution_count": 85,
      "outputs": [
        {
          "output_type": "display_data",
          "data": {
            "text/plain": [
              "<IPython.core.display.HTML object>"
            ],
            "text/html": [
              "<img src=https://random-ize.com/coin-flip/us-quarter/us-quarter-back.jpg>"
            ]
          },
          "metadata": {}
        }
      ]
    },
    {
      "cell_type": "code",
      "source": [
        "# this is displaying the image of the tails url"
      ],
      "metadata": {
        "id": "haxBybozB5Rl"
      },
      "execution_count": 159,
      "outputs": []
    },
    {
      "cell_type": "code",
      "metadata": {
        "id": "U1Oe2gBlsFFQ"
      },
      "source": [
        "def flip_coin():\n",
        "\n",
        "    if coin():\n",
        "        show_img(heads)\n",
        "    else:\n",
        "        show_img(tails)"
      ],
      "execution_count": 86,
      "outputs": []
    },
    {
      "cell_type": "code",
      "metadata": {
        "id": "qatV0cO1tLAF",
        "colab": {
          "base_uri": "https://localhost:8080/",
          "height": 221
        },
        "outputId": "aa91bb90-7dd7-413c-cb26-3f02d86971d0"
      },
      "source": [
        "flip_coin()"
      ],
      "execution_count": 87,
      "outputs": [
        {
          "output_type": "display_data",
          "data": {
            "text/plain": [
              "<IPython.core.display.HTML object>"
            ],
            "text/html": [
              "<img src=https://random-ize.com/coin-flip/us-quarter/us-quarter-front.jpg>"
            ]
          },
          "metadata": {}
        }
      ]
    },
    {
      "cell_type": "code",
      "source": [
        "# here we are flipping the coin at random to see if our results is either heads or tails"
      ],
      "metadata": {
        "id": "YgHXSb0-B-d1"
      },
      "execution_count": 160,
      "outputs": []
    },
    {
      "cell_type": "code",
      "source": [
        "for i in range(5):\n",
        "    flip_coin()"
      ],
      "metadata": {
        "id": "JK_63sBc9ze4",
        "colab": {
          "base_uri": "https://localhost:8080/",
          "height": 1000
        },
        "outputId": "2a01cc03-e138-4f9e-faec-1b80f9066c61"
      },
      "execution_count": 88,
      "outputs": [
        {
          "output_type": "display_data",
          "data": {
            "text/plain": [
              "<IPython.core.display.HTML object>"
            ],
            "text/html": [
              "<img src=https://random-ize.com/coin-flip/us-quarter/us-quarter-front.jpg>"
            ]
          },
          "metadata": {}
        },
        {
          "output_type": "display_data",
          "data": {
            "text/plain": [
              "<IPython.core.display.HTML object>"
            ],
            "text/html": [
              "<img src=https://random-ize.com/coin-flip/us-quarter/us-quarter-front.jpg>"
            ]
          },
          "metadata": {}
        },
        {
          "output_type": "display_data",
          "data": {
            "text/plain": [
              "<IPython.core.display.HTML object>"
            ],
            "text/html": [
              "<img src=https://random-ize.com/coin-flip/us-quarter/us-quarter-back.jpg>"
            ]
          },
          "metadata": {}
        },
        {
          "output_type": "display_data",
          "data": {
            "text/plain": [
              "<IPython.core.display.HTML object>"
            ],
            "text/html": [
              "<img src=https://random-ize.com/coin-flip/us-quarter/us-quarter-front.jpg>"
            ]
          },
          "metadata": {}
        },
        {
          "output_type": "display_data",
          "data": {
            "text/plain": [
              "<IPython.core.display.HTML object>"
            ],
            "text/html": [
              "<img src=https://random-ize.com/coin-flip/us-quarter/us-quarter-front.jpg>"
            ]
          },
          "metadata": {}
        }
      ]
    },
    {
      "cell_type": "code",
      "source": [
        "# here we are flipping the coin five times and getting the result as an image for each one"
      ],
      "metadata": {
        "id": "qZwVBTFUCG1s"
      },
      "execution_count": 161,
      "outputs": []
    },
    {
      "cell_type": "code",
      "metadata": {
        "id": "T6VX51Qwt4xb",
        "cellView": "form",
        "colab": {
          "base_uri": "https://localhost:8080/",
          "height": 221
        },
        "outputId": "5847acb4-61a1-4ae0-b51a-50717bfc84a6"
      },
      "source": [
        "#@title Coin Flip\n",
        "\n",
        "if coin():\n",
        "\n",
        "  show_img(heads)\n",
        "\n",
        "else:\n",
        "\n",
        "  show_img(tails)"
      ],
      "execution_count": 89,
      "outputs": [
        {
          "output_type": "display_data",
          "data": {
            "text/plain": [
              "<IPython.core.display.HTML object>"
            ],
            "text/html": [
              "<img src=https://random-ize.com/coin-flip/us-quarter/us-quarter-front.jpg>"
            ]
          },
          "metadata": {}
        }
      ]
    },
    {
      "cell_type": "code",
      "source": [],
      "metadata": {
        "id": "dbEMqBu1AVja"
      },
      "execution_count": 89,
      "outputs": []
    },
    {
      "cell_type": "markdown",
      "source": [
        "### Cards"
      ],
      "metadata": {
        "id": "HYFhDwx-5Tmb"
      }
    },
    {
      "cell_type": "code",
      "source": [
        "def shuffle(x):\n",
        "    for i in range(len(x)-1,0,-1):\n",
        "        j = np.random.randint(0,i+1)\n",
        "        x[i],x[j] = x[j],x[i]\n",
        "        # print(j,x)\n",
        "    return x"
      ],
      "metadata": {
        "id": "Q7_rInrY0wvF"
      },
      "execution_count": 90,
      "outputs": []
    },
    {
      "cell_type": "code",
      "source": [
        "# here we created a code to shuffle the range "
      ],
      "metadata": {
        "id": "hek67d4iCYXh"
      },
      "execution_count": 162,
      "outputs": []
    },
    {
      "cell_type": "code",
      "source": [
        "a = np.arange(52)"
      ],
      "metadata": {
        "id": "b_ywmb911RR0"
      },
      "execution_count": 91,
      "outputs": []
    },
    {
      "cell_type": "code",
      "source": [
        "# here we are setting our range of numbers from 0-51"
      ],
      "metadata": {
        "id": "cIIyVcUpClKU"
      },
      "execution_count": 163,
      "outputs": []
    },
    {
      "cell_type": "code",
      "source": [
        "shuffle(a)"
      ],
      "metadata": {
        "id": "hp96Lx2n9tCg",
        "colab": {
          "base_uri": "https://localhost:8080/"
        },
        "outputId": "27d3605c-b777-49db-8ed5-85f15953466a"
      },
      "execution_count": 92,
      "outputs": [
        {
          "output_type": "execute_result",
          "data": {
            "text/plain": [
              "array([ 3, 17, 32, 50, 23, 43, 48, 29,  5, 35, 42, 18, 39, 38, 33, 24, 49,\n",
              "       45, 28, 25, 14, 19, 15,  9, 13,  0, 20, 51,  6, 22, 12, 30, 21,  8,\n",
              "       16, 11,  2, 37, 47, 36,  4, 44, 46, 10, 31, 34,  7,  1, 41, 26, 27,\n",
              "       40])"
            ]
          },
          "metadata": {},
          "execution_count": 92
        }
      ]
    },
    {
      "cell_type": "code",
      "source": [
        "# now we shuffled the numbers in the list"
      ],
      "metadata": {
        "id": "84F7E3H4CvBl"
      },
      "execution_count": 164,
      "outputs": []
    },
    {
      "cell_type": "code",
      "source": [
        "np.random.permutation(52)"
      ],
      "metadata": {
        "id": "DRlb5RrU2Xpz",
        "colab": {
          "base_uri": "https://localhost:8080/"
        },
        "outputId": "77e27ae2-96e0-4c72-a64f-1c90fb5a6ab3"
      },
      "execution_count": 93,
      "outputs": [
        {
          "output_type": "execute_result",
          "data": {
            "text/plain": [
              "array([18,  3, 30,  1, 39, 45, 41, 44, 48, 28, 17, 46, 15, 34,  8, 31, 38,\n",
              "       40,  0,  4, 23, 29, 12, 50, 35, 13, 24, 20,  9, 26, 42,  7, 14, 51,\n",
              "       21, 25, 33, 16, 47, 27,  2,  6, 11, 37, 49, 32, 22, 43, 36, 19,  5,\n",
              "       10])"
            ]
          },
          "metadata": {},
          "execution_count": 93
        }
      ]
    },
    {
      "cell_type": "markdown",
      "source": [
        "### Speed Test"
      ],
      "metadata": {
        "id": "qE1o4X7A-NnY"
      }
    },
    {
      "cell_type": "code",
      "source": [
        "%%timeit\n",
        "shuffle(a)"
      ],
      "metadata": {
        "id": "quhAyA2x-Dhg",
        "colab": {
          "base_uri": "https://localhost:8080/"
        },
        "outputId": "44103581-2757-40c2-f345-e9520baa99cf"
      },
      "execution_count": 94,
      "outputs": [
        {
          "output_type": "stream",
          "name": "stdout",
          "text": [
            "182 µs ± 2.04 µs per loop (mean ± std. dev. of 7 runs, 10000 loops each)\n"
          ]
        }
      ]
    },
    {
      "cell_type": "code",
      "source": [
        "%%timeit\n",
        "np.random.permutation(52)"
      ],
      "metadata": {
        "id": "tSfGgWQD95RN",
        "colab": {
          "base_uri": "https://localhost:8080/"
        },
        "outputId": "a4e31fdf-b83d-4643-a5fd-1b93f93f7231"
      },
      "execution_count": 95,
      "outputs": [
        {
          "output_type": "stream",
          "name": "stdout",
          "text": [
            "3.3 µs ± 63.3 ns per loop (mean ± std. dev. of 7 runs, 100000 loops each)\n"
          ]
        }
      ]
    },
    {
      "cell_type": "code",
      "source": [
        "# for these two codes im not sure what we are exactly doing"
      ],
      "metadata": {
        "id": "IixMYuboC-FS"
      },
      "execution_count": 165,
      "outputs": []
    },
    {
      "cell_type": "code",
      "source": [],
      "metadata": {
        "id": "ED0j-t0oC5Vs"
      },
      "execution_count": 95,
      "outputs": []
    },
    {
      "cell_type": "code",
      "source": [],
      "metadata": {
        "id": "d5QNdIZmC5ZD"
      },
      "execution_count": 95,
      "outputs": []
    },
    {
      "cell_type": "code",
      "source": [],
      "metadata": {
        "id": "5Fj5V0NaC5cE"
      },
      "execution_count": 95,
      "outputs": []
    },
    {
      "cell_type": "code",
      "source": [
        "import numpy as np"
      ],
      "metadata": {
        "id": "BeE0MU3UDB5P"
      },
      "execution_count": 96,
      "outputs": []
    },
    {
      "cell_type": "code",
      "source": [
        "np.random.permutation(52)"
      ],
      "metadata": {
        "colab": {
          "base_uri": "https://localhost:8080/"
        },
        "id": "2d81sDv-C5fC",
        "outputId": "e9a77aa8-2f90-4865-853f-80895da68efa"
      },
      "execution_count": 97,
      "outputs": [
        {
          "output_type": "execute_result",
          "data": {
            "text/plain": [
              "array([28,  1, 35, 31, 19, 50, 34, 49, 18, 26, 36, 14, 51, 24, 22, 43,  2,\n",
              "       42, 48, 27, 12, 47, 45, 39,  7,  9, 37, 29,  3, 21, 20, 23, 15, 38,\n",
              "       41, 11,  6, 16,  8, 30, 13, 32, 25,  0,  4,  5, 46, 17, 10, 33, 44,\n",
              "       40])"
            ]
          },
          "metadata": {},
          "execution_count": 97
        }
      ]
    },
    {
      "cell_type": "code",
      "source": [
        "# this is again just arranging the order of the numbers randomly "
      ],
      "metadata": {
        "id": "kBV85owKDbJh"
      },
      "execution_count": 166,
      "outputs": []
    },
    {
      "cell_type": "code",
      "source": [
        "cards = np.random.permutation(52)"
      ],
      "metadata": {
        "id": "utgxB3Hs-XzM"
      },
      "execution_count": 98,
      "outputs": []
    },
    {
      "cell_type": "code",
      "source": [
        "# here we are setting the shuffle code for the 52 numbers equal to cards"
      ],
      "metadata": {
        "id": "1xoNvk8TDpjQ"
      },
      "execution_count": 167,
      "outputs": []
    },
    {
      "cell_type": "code",
      "source": [
        "cards"
      ],
      "metadata": {
        "colab": {
          "base_uri": "https://localhost:8080/"
        },
        "id": "ymjkesO4DeL8",
        "outputId": "636ca9a7-4089-4374-f29c-5f357ccf868d"
      },
      "execution_count": 99,
      "outputs": [
        {
          "output_type": "execute_result",
          "data": {
            "text/plain": [
              "array([30, 43,  7, 47, 10, 36, 28, 41, 29, 14, 22, 24, 31, 32, 25, 34, 51,\n",
              "       44,  5, 45, 37, 17, 49,  4, 11,  8, 27,  9, 35, 16, 18, 42,  2,  3,\n",
              "        0, 48, 50, 13, 19, 40,  1, 38,  6, 21, 26, 12, 46, 33, 23, 39, 15,\n",
              "       20])"
            ]
          },
          "metadata": {},
          "execution_count": 99
        }
      ]
    },
    {
      "cell_type": "code",
      "source": [
        "# if we plot now plot \"cards\" we get the a shuffled order of the 52 numbers"
      ],
      "metadata": {
        "id": "HpIAPwh4D1bS"
      },
      "execution_count": 169,
      "outputs": []
    },
    {
      "cell_type": "code",
      "source": [
        "cards[0]"
      ],
      "metadata": {
        "id": "aD_pF-bb2XMr",
        "colab": {
          "base_uri": "https://localhost:8080/"
        },
        "outputId": "27c72867-c059-4626-9127-38d24a88b1e2"
      },
      "execution_count": 100,
      "outputs": [
        {
          "output_type": "execute_result",
          "data": {
            "text/plain": [
              "30"
            ]
          },
          "metadata": {},
          "execution_count": 100
        }
      ]
    },
    {
      "cell_type": "code",
      "source": [
        "# this means our card number zero is the number 30"
      ],
      "metadata": {
        "id": "czwCwAcXEHup"
      },
      "execution_count": 170,
      "outputs": []
    },
    {
      "cell_type": "code",
      "source": [
        "cards[1]"
      ],
      "metadata": {
        "colab": {
          "base_uri": "https://localhost:8080/"
        },
        "id": "oMX21ZDyC8GE",
        "outputId": "059ed4ee-ffb5-42d8-ec6b-31885b88301b"
      },
      "execution_count": 101,
      "outputs": [
        {
          "output_type": "execute_result",
          "data": {
            "text/plain": [
              "43"
            ]
          },
          "metadata": {},
          "execution_count": 101
        }
      ]
    },
    {
      "cell_type": "code",
      "source": [
        "# this means our card first card or number on our list is the number 43"
      ],
      "metadata": {
        "id": "petKpCS5ENQE"
      },
      "execution_count": 172,
      "outputs": []
    },
    {
      "cell_type": "code",
      "source": [
        "cards[2]"
      ],
      "metadata": {
        "colab": {
          "base_uri": "https://localhost:8080/"
        },
        "id": "iHJdkqRiC8Li",
        "outputId": "3087c921-7a0e-4dc3-9aa1-453bedaff034"
      },
      "execution_count": 102,
      "outputs": [
        {
          "output_type": "execute_result",
          "data": {
            "text/plain": [
              "7"
            ]
          },
          "metadata": {},
          "execution_count": 102
        }
      ]
    },
    {
      "cell_type": "code",
      "source": [
        "# same thing going on here"
      ],
      "metadata": {
        "id": "yuNp20ZZEYps"
      },
      "execution_count": 173,
      "outputs": []
    },
    {
      "cell_type": "code",
      "source": [],
      "metadata": {
        "id": "1D7q7OLnC8OD"
      },
      "execution_count": 102,
      "outputs": []
    },
    {
      "cell_type": "code",
      "source": [],
      "metadata": {
        "id": "2Azw7LtnC8P-"
      },
      "execution_count": 102,
      "outputs": []
    },
    {
      "cell_type": "code",
      "source": [],
      "metadata": {
        "id": "TnIDocAOC8SM"
      },
      "execution_count": 102,
      "outputs": []
    },
    {
      "cell_type": "code",
      "source": [],
      "metadata": {
        "id": "kdbE-ZFVC8Uj"
      },
      "execution_count": 102,
      "outputs": []
    },
    {
      "cell_type": "markdown",
      "source": [
        "<img src='http://www.milefoot.com/math/discrete/counting/images/cards.png'>"
      ],
      "metadata": {
        "id": "4nzZ-igCdyI2"
      }
    },
    {
      "cell_type": "code",
      "source": [
        "# this is an image display of our 52 playing cards "
      ],
      "metadata": {
        "id": "waWL9mjyEfF-"
      },
      "execution_count": 174,
      "outputs": []
    },
    {
      "cell_type": "code",
      "source": [
        "np.arange(52).reshape(4,13)"
      ],
      "metadata": {
        "id": "X2kL-cZdeMLN",
        "colab": {
          "base_uri": "https://localhost:8080/"
        },
        "outputId": "a957c1af-f2af-455e-c783-c20678da529e"
      },
      "execution_count": 103,
      "outputs": [
        {
          "output_type": "execute_result",
          "data": {
            "text/plain": [
              "array([[ 0,  1,  2,  3,  4,  5,  6,  7,  8,  9, 10, 11, 12],\n",
              "       [13, 14, 15, 16, 17, 18, 19, 20, 21, 22, 23, 24, 25],\n",
              "       [26, 27, 28, 29, 30, 31, 32, 33, 34, 35, 36, 37, 38],\n",
              "       [39, 40, 41, 42, 43, 44, 45, 46, 47, 48, 49, 50, 51]])"
            ]
          },
          "metadata": {},
          "execution_count": 103
        }
      ]
    },
    {
      "cell_type": "code",
      "source": [
        "# here we are organizing our number list in order from 0 to 51"
      ],
      "metadata": {
        "id": "MVAE1ARVEwqt"
      },
      "execution_count": 175,
      "outputs": []
    },
    {
      "cell_type": "code",
      "source": [
        "np.arange(52).reshape(4,13)%13"
      ],
      "metadata": {
        "id": "YfRxhh8BeV_a",
        "colab": {
          "base_uri": "https://localhost:8080/"
        },
        "outputId": "c1110b0f-f20c-449b-9470-da6e36e4ffef"
      },
      "execution_count": 104,
      "outputs": [
        {
          "output_type": "execute_result",
          "data": {
            "text/plain": [
              "array([[ 0,  1,  2,  3,  4,  5,  6,  7,  8,  9, 10, 11, 12],\n",
              "       [ 0,  1,  2,  3,  4,  5,  6,  7,  8,  9, 10, 11, 12],\n",
              "       [ 0,  1,  2,  3,  4,  5,  6,  7,  8,  9, 10, 11, 12],\n",
              "       [ 0,  1,  2,  3,  4,  5,  6,  7,  8,  9, 10, 11, 12]])"
            ]
          },
          "metadata": {},
          "execution_count": 104
        }
      ]
    },
    {
      "cell_type": "code",
      "source": [
        "# here we are organizing our 52 cards in 4 separate rows each going from 0 to 12"
      ],
      "metadata": {
        "id": "6ZxqEsKhE8CC"
      },
      "execution_count": 176,
      "outputs": []
    },
    {
      "cell_type": "code",
      "source": [
        "np.arange(52).reshape(4,13)//13"
      ],
      "metadata": {
        "id": "fdzIqJr9e60L",
        "colab": {
          "base_uri": "https://localhost:8080/"
        },
        "outputId": "13313322-5044-4a3f-8c93-ffd076add40c"
      },
      "execution_count": 105,
      "outputs": [
        {
          "output_type": "execute_result",
          "data": {
            "text/plain": [
              "array([[0, 0, 0, 0, 0, 0, 0, 0, 0, 0, 0, 0, 0],\n",
              "       [1, 1, 1, 1, 1, 1, 1, 1, 1, 1, 1, 1, 1],\n",
              "       [2, 2, 2, 2, 2, 2, 2, 2, 2, 2, 2, 2, 2],\n",
              "       [3, 3, 3, 3, 3, 3, 3, 3, 3, 3, 3, 3, 3]])"
            ]
          },
          "metadata": {},
          "execution_count": 105
        }
      ]
    },
    {
      "cell_type": "code",
      "source": [
        "suits = ['Clubs','Spades','Hearts','Diamonds']\n",
        "names = ['Ace','Two','Three','Four','Five','Six','Seven','Eight','Nine','Ten','Jack','Queen','King']"
      ],
      "metadata": {
        "id": "-xUjbfkQfUgL"
      },
      "execution_count": 106,
      "outputs": []
    },
    {
      "cell_type": "code",
      "source": [
        "def card_name(card_number):\n",
        "    \n",
        "    suit = card_number//13\n",
        "    name = card_number%13\n",
        "\n",
        "    return names[name] + \" of \" + suits[suit]"
      ],
      "metadata": {
        "id": "-e-I-Cp7eFnx"
      },
      "execution_count": 107,
      "outputs": []
    },
    {
      "cell_type": "code",
      "source": [
        "# here we are now coding the numbers on our array to represent a specific card in the deck"
      ],
      "metadata": {
        "id": "d2yzjUmaFNOz"
      },
      "execution_count": 178,
      "outputs": []
    },
    {
      "cell_type": "code",
      "source": [
        "card_name(0)"
      ],
      "metadata": {
        "colab": {
          "base_uri": "https://localhost:8080/",
          "height": 35
        },
        "id": "3Jz3yyAtGPfX",
        "outputId": "9acca18c-2a01-4be9-f690-4a0467bf1fa7"
      },
      "execution_count": 108,
      "outputs": [
        {
          "output_type": "execute_result",
          "data": {
            "text/plain": [
              "'Ace of Clubs'"
            ],
            "application/vnd.google.colaboratory.intrinsic+json": {
              "type": "string"
            }
          },
          "metadata": {},
          "execution_count": 108
        }
      ]
    },
    {
      "cell_type": "code",
      "source": [
        "# this means the fist card of the deck is the ace of clubs"
      ],
      "metadata": {
        "id": "4j_sRjkKFcWV"
      },
      "execution_count": 179,
      "outputs": []
    },
    {
      "cell_type": "code",
      "source": [
        "card_name(51)"
      ],
      "metadata": {
        "colab": {
          "base_uri": "https://localhost:8080/",
          "height": 35
        },
        "id": "WO3GC8uiGPp-",
        "outputId": "4c9d827f-3751-46ba-cf5c-367212c27827"
      },
      "execution_count": 109,
      "outputs": [
        {
          "output_type": "execute_result",
          "data": {
            "text/plain": [
              "'King of Diamonds'"
            ],
            "application/vnd.google.colaboratory.intrinsic+json": {
              "type": "string"
            }
          },
          "metadata": {},
          "execution_count": 109
        }
      ]
    },
    {
      "cell_type": "code",
      "source": [
        "# this means the last card in our deck or array is the king of diamonds"
      ],
      "metadata": {
        "id": "PN0v49_JFlj9"
      },
      "execution_count": 180,
      "outputs": []
    },
    {
      "cell_type": "code",
      "source": [],
      "metadata": {
        "id": "dFl4rJa9GP23"
      },
      "execution_count": 109,
      "outputs": []
    },
    {
      "cell_type": "code",
      "source": [],
      "metadata": {
        "id": "BC5b-bO3GQDv"
      },
      "execution_count": 109,
      "outputs": []
    },
    {
      "cell_type": "code",
      "source": [],
      "metadata": {
        "id": "RGfjtdTdGQQv"
      },
      "execution_count": 109,
      "outputs": []
    },
    {
      "cell_type": "code",
      "source": [
        "cards = np.random.permutation(52)"
      ],
      "metadata": {
        "id": "fAMR6SY43iB_"
      },
      "execution_count": 110,
      "outputs": []
    },
    {
      "cell_type": "code",
      "source": [
        "top_of_deck         = card_name(cards[0])\n",
        "second_card_in_deck = card_name(cards[1])\n",
        "last_card_in_deck   = card_name(cards[-1])"
      ],
      "metadata": {
        "id": "XGAe8yPY3iCA"
      },
      "execution_count": 111,
      "outputs": []
    },
    {
      "cell_type": "code",
      "source": [
        "# here we are setting the text top, second, and last card in the deck to give us the actual cards in that order from our deck"
      ],
      "metadata": {
        "id": "-dzvYd0oGbLv"
      },
      "execution_count": 183,
      "outputs": []
    },
    {
      "cell_type": "code",
      "source": [
        "top_of_deck, second_card_in_deck, last_card_in_deck"
      ],
      "metadata": {
        "id": "erDo7giQ3fg6",
        "colab": {
          "base_uri": "https://localhost:8080/"
        },
        "outputId": "81cb1311-f652-484f-80d6-39db0c9d4dbe"
      },
      "execution_count": 112,
      "outputs": [
        {
          "output_type": "execute_result",
          "data": {
            "text/plain": [
              "('Two of Diamonds', 'Nine of Diamonds', 'Five of Diamonds')"
            ]
          },
          "metadata": {},
          "execution_count": 112
        }
      ]
    },
    {
      "cell_type": "code",
      "source": [
        "for i in range(5):\n",
        "    print(card_name(cards[i]))"
      ],
      "metadata": {
        "id": "D_TDdCHv30GR",
        "colab": {
          "base_uri": "https://localhost:8080/"
        },
        "outputId": "d70d7665-ef4c-4b16-c563-0ceaf0b98c45"
      },
      "execution_count": 113,
      "outputs": [
        {
          "output_type": "stream",
          "name": "stdout",
          "text": [
            "Two of Diamonds\n",
            "Nine of Diamonds\n",
            "Four of Clubs\n",
            "Five of Clubs\n",
            "Six of Hearts\n"
          ]
        }
      ]
    },
    {
      "cell_type": "code",
      "source": [
        "# here we are printing the first five cards in the deck "
      ],
      "metadata": {
        "id": "w2g6Bz8YGHYD"
      },
      "execution_count": 181,
      "outputs": []
    },
    {
      "cell_type": "code",
      "source": [
        "for i in range(15):\n",
        "    print(card_name(cards[i]))"
      ],
      "metadata": {
        "colab": {
          "base_uri": "https://localhost:8080/"
        },
        "id": "_g9tC5TNHvXh",
        "outputId": "8f9f410b-447d-42d7-e50a-87761c26afef"
      },
      "execution_count": 114,
      "outputs": [
        {
          "output_type": "stream",
          "name": "stdout",
          "text": [
            "Two of Diamonds\n",
            "Nine of Diamonds\n",
            "Four of Clubs\n",
            "Five of Clubs\n",
            "Six of Hearts\n",
            "Ten of Spades\n",
            "Seven of Hearts\n",
            "Five of Spades\n",
            "Queen of Spades\n",
            "Four of Hearts\n",
            "Ace of Clubs\n",
            "King of Spades\n",
            "Ten of Diamonds\n",
            "Jack of Hearts\n",
            "Ace of Diamonds\n"
          ]
        }
      ]
    },
    {
      "cell_type": "code",
      "source": [
        "# here we are printing the first 15 cards in the deck"
      ],
      "metadata": {
        "id": "3UVXEyv4GRYF"
      },
      "execution_count": 182,
      "outputs": []
    },
    {
      "cell_type": "code",
      "source": [],
      "metadata": {
        "id": "8Hyzuz9-HvZK"
      },
      "execution_count": 114,
      "outputs": []
    },
    {
      "cell_type": "markdown",
      "source": [
        "https://www.improvemagic.com/all-playing-cards-names-with-pictures/"
      ],
      "metadata": {
        "id": "vdqtmIBN_a7r"
      }
    },
    {
      "cell_type": "code",
      "source": [],
      "metadata": {
        "id": "RxUyIi1dHvbh"
      },
      "execution_count": 114,
      "outputs": []
    },
    {
      "cell_type": "code",
      "source": [],
      "metadata": {
        "id": "80hX7BWqHvdn"
      },
      "execution_count": 114,
      "outputs": []
    },
    {
      "cell_type": "code",
      "source": [
        "card_url_head = \"https://www.improvemagic.com/wp-content/uploads/2020/11/\"\n",
        "card_url_tail = \".png\""
      ],
      "metadata": {
        "id": "ZuGAbJIC_BGM"
      },
      "execution_count": 115,
      "outputs": []
    },
    {
      "cell_type": "code",
      "source": [
        "# this is just the urls for the cards' head and tail"
      ],
      "metadata": {
        "id": "IlsdgLyDGzhZ"
      },
      "execution_count": 184,
      "outputs": []
    },
    {
      "cell_type": "code",
      "source": [
        "suit = ['k','p','s','l']\n",
        "card = ['a','2','3','4','5','6','7','8','9','10','j','q','k']"
      ],
      "metadata": {
        "id": "FSYUTq2F_BIx"
      },
      "execution_count": 116,
      "outputs": []
    },
    {
      "cell_type": "code",
      "source": [
        "i = np.random.randint(4)\n",
        "j = np.random.randint(13)"
      ],
      "metadata": {
        "id": "4UBNVwxU_BL5"
      },
      "execution_count": 117,
      "outputs": []
    },
    {
      "cell_type": "code",
      "source": [
        "i,j"
      ],
      "metadata": {
        "colab": {
          "base_uri": "https://localhost:8080/"
        },
        "id": "pAx5veOKJYqk",
        "outputId": "e75e4858-9764-4998-9472-55ed55590306"
      },
      "execution_count": 118,
      "outputs": [
        {
          "output_type": "execute_result",
          "data": {
            "text/plain": [
              "(1, 6)"
            ]
          },
          "metadata": {},
          "execution_count": 118
        }
      ]
    },
    {
      "cell_type": "code",
      "source": [
        "suit[i]"
      ],
      "metadata": {
        "id": "PJI87rOLADjE",
        "colab": {
          "base_uri": "https://localhost:8080/",
          "height": 35
        },
        "outputId": "96fb1157-e020-43fa-8d61-23eea0363b9c"
      },
      "execution_count": 119,
      "outputs": [
        {
          "output_type": "execute_result",
          "data": {
            "text/plain": [
              "'p'"
            ],
            "application/vnd.google.colaboratory.intrinsic+json": {
              "type": "string"
            }
          },
          "metadata": {},
          "execution_count": 119
        }
      ]
    },
    {
      "cell_type": "code",
      "source": [
        "card[j]"
      ],
      "metadata": {
        "id": "4CDlPu3QAGrB",
        "colab": {
          "base_uri": "https://localhost:8080/",
          "height": 35
        },
        "outputId": "675e8672-bceb-49dc-8195-ac85d5fa2f43"
      },
      "execution_count": 120,
      "outputs": [
        {
          "output_type": "execute_result",
          "data": {
            "text/plain": [
              "'7'"
            ],
            "application/vnd.google.colaboratory.intrinsic+json": {
              "type": "string"
            }
          },
          "metadata": {},
          "execution_count": 120
        }
      ]
    },
    {
      "cell_type": "code",
      "source": [
        "from IPython.core.display import display, HTML"
      ],
      "metadata": {
        "id": "nMrvAOnhK7EK"
      },
      "execution_count": 121,
      "outputs": []
    },
    {
      "cell_type": "code",
      "source": [
        "def show_img(img):\n",
        "  display(HTML('<img src=' + img + '>'))"
      ],
      "metadata": {
        "id": "sdXvvvlkAI6h"
      },
      "execution_count": 122,
      "outputs": []
    },
    {
      "cell_type": "code",
      "source": [
        "# this is the same code we have been using before to display an image from a html url"
      ],
      "metadata": {
        "id": "7-UImKyoHbKJ"
      },
      "execution_count": 185,
      "outputs": []
    },
    {
      "cell_type": "code",
      "source": [
        "img = card_url_head + suit[i] + card[j] + card_url_tail"
      ],
      "metadata": {
        "id": "ZE-ENtczAVsM"
      },
      "execution_count": 123,
      "outputs": []
    },
    {
      "cell_type": "code",
      "source": [
        "show_img(img)"
      ],
      "metadata": {
        "id": "XJpPMK-NAVu4",
        "colab": {
          "base_uri": "https://localhost:8080/",
          "height": 334
        },
        "outputId": "6754ee90-9cbf-4609-8581-4894d38226d3"
      },
      "execution_count": 124,
      "outputs": [
        {
          "output_type": "display_data",
          "data": {
            "text/plain": [
              "<IPython.core.display.HTML object>"
            ],
            "text/html": [
              "<img src=https://www.improvemagic.com/wp-content/uploads/2020/11/p7.png>"
            ]
          },
          "metadata": {}
        }
      ]
    },
    {
      "cell_type": "code",
      "source": [
        "# this is a card image displayed"
      ],
      "metadata": {
        "id": "3i7oVu6rHnol"
      },
      "execution_count": 187,
      "outputs": []
    },
    {
      "cell_type": "code",
      "source": [],
      "metadata": {
        "id": "704bIqNnKhoQ"
      },
      "execution_count": 124,
      "outputs": []
    },
    {
      "cell_type": "code",
      "source": [],
      "metadata": {
        "id": "H7W4VXmqKhrv"
      },
      "execution_count": 124,
      "outputs": []
    },
    {
      "cell_type": "code",
      "source": [],
      "metadata": {
        "id": "g2MOeQegKhyJ"
      },
      "execution_count": 124,
      "outputs": []
    },
    {
      "cell_type": "code",
      "source": [
        "def card_image(card_number):\n",
        "    \n",
        "    i = card_number//13\n",
        "    j = card_number%13\n",
        "\n",
        "    return suit[i]+card[j]"
      ],
      "metadata": {
        "id": "JtqOFl_WAVxd"
      },
      "execution_count": 125,
      "outputs": []
    },
    {
      "cell_type": "code",
      "source": [
        "# here we are printing the card image with its card number instead"
      ],
      "metadata": {
        "id": "IfPKcWBeI0p2"
      },
      "execution_count": 192,
      "outputs": []
    },
    {
      "cell_type": "code",
      "source": [
        "card_image(3)"
      ],
      "metadata": {
        "id": "K1MVgXJ-AVz0",
        "colab": {
          "base_uri": "https://localhost:8080/",
          "height": 35
        },
        "outputId": "10d7faca-418c-44d7-b52e-8366807e5849"
      },
      "execution_count": 126,
      "outputs": [
        {
          "output_type": "execute_result",
          "data": {
            "text/plain": [
              "'k4'"
            ],
            "application/vnd.google.colaboratory.intrinsic+json": {
              "type": "string"
            }
          },
          "metadata": {},
          "execution_count": 126
        }
      ]
    },
    {
      "cell_type": "code",
      "source": [
        "img = card_url_head + card_image(3) + card_url_tail"
      ],
      "metadata": {
        "id": "2TGYbXUiB1iw"
      },
      "execution_count": 127,
      "outputs": []
    },
    {
      "cell_type": "code",
      "source": [
        "show_img(img)"
      ],
      "metadata": {
        "id": "Ve1UcoH3B5sS",
        "colab": {
          "base_uri": "https://localhost:8080/",
          "height": 333
        },
        "outputId": "a00efba4-bf41-4ad9-cdc5-9da9afbe8774"
      },
      "execution_count": 128,
      "outputs": [
        {
          "output_type": "display_data",
          "data": {
            "text/plain": [
              "<IPython.core.display.HTML object>"
            ],
            "text/html": [
              "<img src=https://www.improvemagic.com/wp-content/uploads/2020/11/k4.png>"
            ]
          },
          "metadata": {}
        }
      ]
    },
    {
      "cell_type": "code",
      "source": [
        "# here the code is showing us what card number 3 in the deck looks like"
      ],
      "metadata": {
        "id": "IgXOg2SGInE8"
      },
      "execution_count": 191,
      "outputs": []
    },
    {
      "cell_type": "code",
      "source": [
        "for i in range(52):\n",
        "    img = card_url_head + card_image(i) + card_url_tail\n",
        "    show_img(img)"
      ],
      "metadata": {
        "id": "UCervcFTB5ut"
      },
      "execution_count": null,
      "outputs": []
    },
    {
      "cell_type": "code",
      "source": [
        "# here we are printing an image of each card in the deck in order from least to greatest and grouped by its card symbol"
      ],
      "metadata": {
        "id": "nLg1kgajIDF4"
      },
      "execution_count": 190,
      "outputs": []
    },
    {
      "cell_type": "code",
      "source": [],
      "metadata": {
        "id": "jZ9e5Z9HB7sG"
      },
      "execution_count": 129,
      "outputs": []
    }
  ]
}