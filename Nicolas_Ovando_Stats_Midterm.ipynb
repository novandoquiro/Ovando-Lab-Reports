{
  "nbformat": 4,
  "nbformat_minor": 0,
  "metadata": {
    "colab": {
      "provenance": [],
      "collapsed_sections": [],
      "include_colab_link": true
    },
    "kernelspec": {
      "name": "python3",
      "display_name": "Python 3"
    },
    "language_info": {
      "name": "python"
    }
  },
  "cells": [
    {
      "cell_type": "markdown",
      "metadata": {
        "id": "view-in-github",
        "colab_type": "text"
      },
      "source": [
        "<a href=\"https://colab.research.google.com/github/novandoquiro/Ovando-Lab-Reports/blob/main/Nicolas_Ovando_Stats_Midterm.ipynb\" target=\"_parent\"><img src=\"https://colab.research.google.com/assets/colab-badge.svg\" alt=\"Open In Colab\"/></a>"
      ]
    },
    {
      "cell_type": "markdown",
      "source": [
        "# STA 2023 Midterm Project\n",
        "\n",
        "Directions:\n",
        "\n",
        "*   Use any and all resources available to you\n",
        "*   Comment and explain the code\n",
        "*   Answer the questions to the best of your abilities\n",
        "*   There are no points for pain: ask for help\n",
        "\n",
        "Save this notebook to your GitHub and submit the link."
      ],
      "metadata": {
        "id": "WyqM99KnfwFM"
      }
    },
    {
      "cell_type": "code",
      "source": [
        "import numpy as np\n",
        "import matplotlib.pyplot as plt\n",
        "# This is a very important code we use to import data and plot graphs"
      ],
      "metadata": {
        "id": "ZE7xzRUigBYy"
      },
      "execution_count": null,
      "outputs": []
    },
    {
      "cell_type": "markdown",
      "source": [
        "## Part 1: Getting your data\n",
        "\n",
        "Create a google form to input your data.\n",
        "Follow the same method as [Lab 5](https://colab.research.google.com/drive/1zYvyhrz2wVnJXlZqj_PpxOxplfS3LN9Y?usp=sharing)."
      ],
      "metadata": {
        "id": "tkn5UxLMg4GS"
      }
    },
    {
      "cell_type": "code",
      "source": [
        "import pandas as pd\n",
        "def get_database(url): # This function loads the google spreadsheet\n",
        "    url_head = \"https://docs.google.com/spreadsheets/d/\"\n",
        "    url_foot = \"/gviz/tq?tqx=out:csv&sheet=\"\n",
        "    url_body = url.split('/')[5]\n",
        "    sheet_name = \"1\"\n",
        "    url_csv = url_head + url_body + url_foot + sheet_name\n",
        "    df = pd.read_csv(url_csv, sep=',', skiprows=0)\n",
        "    return df"
      ],
      "metadata": {
        "id": "B0XQVmQIgdrp"
      },
      "execution_count": null,
      "outputs": []
    },
    {
      "cell_type": "markdown",
      "source": [
        "Put your form url here:"
      ],
      "metadata": {
        "id": "e3G1Q_8rjlLI"
      }
    },
    {
      "cell_type": "code",
      "source": [
        "url = 'https://docs.google.com/spreadsheets/d/1_1kwuLytOtqwVQVoRnVausGdWxeph7tRNv7Z05r1R08/edit#gid=0' # This is the url for my google spreadsheet which contains the diameters and circumferences of my five circle objects"
      ],
      "metadata": {
        "id": "PfAztwghjql2"
      },
      "execution_count": null,
      "outputs": []
    },
    {
      "cell_type": "code",
      "source": [
        "data = get_database(url) # This loads the spreadheet table into the notebook"
      ],
      "metadata": {
        "id": "_SA4UhnqjyhY"
      },
      "execution_count": null,
      "outputs": []
    },
    {
      "cell_type": "code",
      "source": [
        "circumferences = np.array([3,12,8,8,28]) # These numbers are the circumferences of my five circle objects\n",
        "diameters = np.array([1,4,2.5,2.5,9]) # These numbers are the diameters of my five circle objects"
      ],
      "metadata": {
        "id": "HwjOm5sgj2JA"
      },
      "execution_count": null,
      "outputs": []
    },
    {
      "cell_type": "markdown",
      "source": [
        "Plot your data points"
      ],
      "metadata": {
        "id": "INpIcEh1mUKn"
      }
    },
    {
      "cell_type": "code",
      "source": [
        "plt.title(\"Circle Diameter vs Circumference\")\n",
        "\n",
        "plt.xlabel('Diameter')\n",
        "plt.ylabel('Circumference')\n",
        "\n",
        "plt.plot(diameters,circumferences,'.')\n",
        "\n",
        "# In this code I am plotting the results for my five circle objects"
      ],
      "metadata": {
        "id": "uoX4t7tIj8id",
        "colab": {
          "base_uri": "https://localhost:8080/",
          "height": 312
        },
        "outputId": "a90ba577-7f6c-4f12-e02d-e7f194325b7f"
      },
      "execution_count": null,
      "outputs": [
        {
          "output_type": "execute_result",
          "data": {
            "text/plain": [
              "[<matplotlib.lines.Line2D at 0x7f7d16e39090>]"
            ]
          },
          "metadata": {},
          "execution_count": 37
        },
        {
          "output_type": "display_data",
          "data": {
            "text/plain": [
              "<Figure size 432x288 with 1 Axes>"
            ],
            "image/png": "[encoded data removed]"
          },
          "metadata": {
            "needs_background": "light"
          }
        }
      ]
    },
    {
      "cell_type": "code",
      "source": [
        "# Two of my circles have the same diameter and circumference which is why only four dots appear on my plot above"
      ],
      "metadata": {
        "id": "mRmQ2z84SU7W"
      },
      "execution_count": null,
      "outputs": []
    },
    {
      "cell_type": "code",
      "source": [
        "x = diameters \n",
        "y = circumferences \n",
        "\n",
        "# Here I am setting x equal to my diameters and y equal to my circumferences"
      ],
      "metadata": {
        "id": "F-2nIlokE0aO"
      },
      "execution_count": null,
      "outputs": []
    },
    {
      "cell_type": "code",
      "source": [
        "m_guess = 0\n",
        "b_guess = 0\n",
        "\n",
        "# Here I am setting m and b equal to zero"
      ],
      "metadata": {
        "id": "7T8ZbQKuPtpN"
      },
      "execution_count": null,
      "outputs": []
    },
    {
      "cell_type": "code",
      "source": [
        "x"
      ],
      "metadata": {
        "colab": {
          "base_uri": "https://localhost:8080/"
        },
        "id": "2bmDwEn_P0_M",
        "outputId": "2dda5445-b62e-407b-c907-5c96673af83b"
      },
      "execution_count": null,
      "outputs": [
        {
          "output_type": "execute_result",
          "data": {
            "text/plain": [
              "array([1. , 4. , 2.5, 2.5, 9. ])"
            ]
          },
          "metadata": {},
          "execution_count": 19
        }
      ]
    },
    {
      "cell_type": "code",
      "source": [
        "m_guess * x"
      ],
      "metadata": {
        "colab": {
          "base_uri": "https://localhost:8080/"
        },
        "id": "SLdjXDNwP3kM",
        "outputId": "4b69da04-d5da-4d20-b326-8abb76129b7a"
      },
      "execution_count": null,
      "outputs": [
        {
          "output_type": "execute_result",
          "data": {
            "text/plain": [
              "array([0., 0., 0., 0., 0.])"
            ]
          },
          "metadata": {},
          "execution_count": 20
        }
      ]
    },
    {
      "cell_type": "code",
      "source": [
        "m_guess * x + b_guess"
      ],
      "metadata": {
        "colab": {
          "base_uri": "https://localhost:8080/"
        },
        "id": "9i-HnpxKZaOE",
        "outputId": "047de152-6e90-4a9a-ed27-969bf02ba78f"
      },
      "execution_count": null,
      "outputs": [
        {
          "output_type": "execute_result",
          "data": {
            "text/plain": [
              "array([ 200.,  500.,  350.,  350., 1000.])"
            ]
          },
          "metadata": {},
          "execution_count": 55
        }
      ]
    },
    {
      "cell_type": "code",
      "source": [
        "y_guess = m_guess * x + b_guess"
      ],
      "metadata": {
        "id": "IzPPT2jITB8H"
      },
      "execution_count": null,
      "outputs": []
    },
    {
      "cell_type": "code",
      "source": [
        "y_guess - y\n",
        "\n",
        "# Here I am trying to see how wrong I am by subtracting my y values which represent my circumferences"
      ],
      "metadata": {
        "colab": {
          "base_uri": "https://localhost:8080/"
        },
        "id": "WvtVl-ZxTqmA",
        "outputId": "bd9930b6-edc2-4e68-ee24-7927e9150f60"
      },
      "execution_count": null,
      "outputs": [
        {
          "output_type": "execute_result",
          "data": {
            "text/plain": [
              "array([ -3., -12.,  -8.,  -8., -28.])"
            ]
          },
          "metadata": {},
          "execution_count": 38
        }
      ]
    },
    {
      "cell_type": "code",
      "source": [
        "(y_guess - y)**2\n",
        "\n",
        "# Here I am getting rid of the minus signs"
      ],
      "metadata": {
        "colab": {
          "base_uri": "https://localhost:8080/"
        },
        "id": "8VZC2-77UPYg",
        "outputId": "146ec653-7196-496d-bda5-d8568fcbb00e"
      },
      "execution_count": null,
      "outputs": [
        {
          "output_type": "execute_result",
          "data": {
            "text/plain": [
              "array([  9., 144.,  64.,  64., 784.])"
            ]
          },
          "metadata": {},
          "execution_count": 34
        }
      ]
    },
    {
      "cell_type": "markdown",
      "source": [
        "## Part 2: Linear Fit\n",
        "\n",
        "Follow the steps in the [Linear Fit notebook]() to run a linear fit on your data."
      ],
      "metadata": {
        "id": "IhT_tn8ym8N8"
      }
    },
    {
      "cell_type": "code",
      "source": [
        "best_loss = 100000000\n",
        "\n",
        "best_m = 0\n",
        "best_b = 0\n",
        "\n",
        "for m_guess in np.linspace(-100,100,100):\n",
        "    for b_guess in np.linspace(-100,100,100):\n",
        "        \n",
        "        y_guess = m_guess * x + b_guess\n",
        "\n",
        "        loss = np.sum((y_guess - y)**2) # This is the loss function or the least squares of errors\n",
        "\n",
        "        if loss < best_loss:\n",
        "            \n",
        "            best_loss = loss\n",
        "            best_m = m_guess\n",
        "            best_b = b_guess \n"
      ],
      "metadata": {
        "id": "KZn5uJ31nk4X"
      },
      "execution_count": null,
      "outputs": []
    },
    {
      "cell_type": "markdown",
      "source": [
        "Plot the line of best fit:\n",
        "\n",
        "Use blue dots for the collected data and a red line for the estimate."
      ],
      "metadata": {
        "id": "I0KofkS9p7hu"
      }
    },
    {
      "cell_type": "code",
      "source": [
        "plt.title('Linear Fit of Circles')\n",
        "\n",
        "plt.xlabel('Diameter')\n",
        "plt.ylabel('Circumference')\n",
        "\n",
        "y_guess = best_m * x + best_b\n",
        "\n",
        "plt.plot(x,y_guess,'r'); # The 'r' means the line will be red\n",
        "plt.plot(x,y,'b.'); # The 'b' means the dots will be blue\n",
        "plt.show()\n",
        "\n",
        "print(best_loss,best_m,best_b)\n",
        "\n",
        "# Here I included an additional code to my original plot which now shows a red line representing the line of best fit amongst my five circles"
      ],
      "metadata": {
        "id": "xe8G9X7DqACm",
        "colab": {
          "base_uri": "https://localhost:8080/",
          "height": 312
        },
        "outputId": "dcb2b31b-3ab0-4498-867b-0864477e0cc7"
      },
      "execution_count": null,
      "outputs": [
        {
          "output_type": "display_data",
          "data": {
            "text/plain": [
              "<Figure size 432x288 with 1 Axes>"
            ],
            "image/png": "[encoded data removed]"
          },
          "metadata": {
            "needs_background": "light"
          }
        },
        {
          "output_type": "stream",
          "name": "stdout",
          "text": [
            "3.1287623711866352 3.030303030303031 1.0101010101010104\n"
          ]
        }
      ]
    },
    {
      "cell_type": "markdown",
      "source": [
        "The estimated relationship is:\n",
        "\n",
        "$C = m D + b$"
      ],
      "metadata": {
        "id": "4zCAPG3upXN9"
      }
    },
    {
      "cell_type": "markdown",
      "source": [
        "## Part 3: Interpretation\n",
        "\n",
        "Answer the questions in text cells"
      ],
      "metadata": {
        "id": "7FBlUtdwt_hd"
      }
    },
    {
      "cell_type": "markdown",
      "source": [
        "#### Question 1:\n",
        "\n",
        "What do $m$ and $b$ represent in these equations?"
      ],
      "metadata": {
        "id": "9xIvwJhOuGDh"
      }
    },
    {
      "cell_type": "markdown",
      "source": [
        "m represents the slope of the line and b respresents the y-intercept of the line"
      ],
      "metadata": {
        "id": "OC_Ja53Yugfn"
      }
    },
    {
      "cell_type": "markdown",
      "source": [
        "#### Question 2:\n",
        "\n",
        "Guess what the correct values $m$ and $b$ should be."
      ],
      "metadata": {
        "id": "_7xl4z8kubLo"
      }
    },
    {
      "cell_type": "markdown",
      "source": [
        "m should be 3.030303030303031 and b should be 1.0101010101010104"
      ],
      "metadata": {
        "id": "Te_52DvOuhZ-"
      }
    },
    {
      "cell_type": "markdown",
      "source": [
        "#### Question 3:\n",
        "\n",
        "Does it make sense to include $b$ in the parameters?"
      ],
      "metadata": {
        "id": "2yrRt2wMubSC"
      }
    },
    {
      "cell_type": "markdown",
      "source": [
        "no you do not need to include b in the parameters"
      ],
      "metadata": {
        "id": "F0gbHr8_uiWi"
      }
    },
    {
      "cell_type": "markdown",
      "source": [
        "## Bonus:\n",
        "\n",
        "These problems are extra credit. You may use any resources, but be sure to explain your code."
      ],
      "metadata": {
        "id": "_3LN79rPujMz"
      }
    },
    {
      "cell_type": "markdown",
      "source": [
        "#### Bonus 1: Plot the squared errors from your line of best fit"
      ],
      "metadata": {
        "id": "wk0Ox4nqvFcT"
      }
    },
    {
      "cell_type": "code",
      "source": [
        "plt.title(\"Fit Errors\")\n",
        "\n",
        "plt.xlabel(\"Diameter\")\n",
        "plt.ylabel(\"Squared Error\")\n",
        "\n",
        "squared_error = ...\n",
        "\n",
        "plt.plot(..., 'b.', label = \"Errors\")\n",
        "\n",
        "plt.legend();"
      ],
      "metadata": {
        "id": "O8IQn-B_vXAN"
      },
      "execution_count": null,
      "outputs": []
    },
    {
      "cell_type": "markdown",
      "source": [
        "#### Bonus 2: Plot the errors as a histogram"
      ],
      "metadata": {
        "id": "ojVobjtBwK9o"
      }
    },
    {
      "cell_type": "code",
      "source": [
        "plt.title(\"Errors\")\n",
        "\n",
        "..."
      ],
      "metadata": {
        "id": "WJkR3s9kwujU"
      },
      "execution_count": null,
      "outputs": []
    },
    {
      "cell_type": "markdown",
      "source": [
        "What distribution does this histogram look like?"
      ],
      "metadata": {
        "id": "k9nm1qADyFiA"
      }
    },
    {
      "cell_type": "markdown",
      "source": [],
      "metadata": {
        "id": "r2Vo3k0xyKiK"
      }
    },
    {
      "cell_type": "markdown",
      "source": [
        "#### Bonus 3: Find the circle with the largest error. \n",
        "Hint: use np.max"
      ],
      "metadata": {
        "id": "qfDuImTvrF5V"
      }
    },
    {
      "cell_type": "code",
      "source": [
        "largest_error = ..."
      ],
      "metadata": {
        "id": "k7ShpKK6vWrH"
      },
      "execution_count": null,
      "outputs": []
    },
    {
      "cell_type": "markdown",
      "source": [
        "#### Bonus 4: Remove the circles with the 2 largest errors and run the fit again.\n"
      ],
      "metadata": {
        "id": "oQCq4D4uwZ7I"
      }
    },
    {
      "cell_type": "code",
      "source": [
        "..."
      ],
      "metadata": {
        "id": "EjddA54wwKPY"
      },
      "execution_count": null,
      "outputs": []
    },
    {
      "cell_type": "markdown",
      "source": [
        "What is the difference in your error?"
      ],
      "metadata": {
        "id": "V2jyayR-yOvF"
      }
    },
    {
      "cell_type": "markdown",
      "source": [],
      "metadata": {
        "id": "F1ZCdkHyyY9x"
      }
    },
    {
      "cell_type": "markdown",
      "source": [
        "#### Bonus 5: Find and explain a better method of fitting this data"
      ],
      "metadata": {
        "id": "1y-okVy_w22o"
      }
    },
    {
      "cell_type": "code",
      "source": [],
      "metadata": {
        "id": "sfOiajQCxH_7"
      },
      "execution_count": null,
      "outputs": []
    }
  ]
}